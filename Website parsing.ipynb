{
 "cells": [
  {
   "cell_type": "code",
   "execution_count": null,
   "metadata": {},
   "outputs": [],
   "source": []
  },
  {
   "cell_type": "code",
   "execution_count": 15,
   "metadata": {
    "scrolled": true
   },
   "outputs": [
    {
     "name": "stdout",
     "output_type": "stream",
     "text": [
      "<!DOCTYPE html>\n",
      "<html lang=\"en\">\n",
      "  <head>\n",
      "    <meta http-equiv=\"content-type\" content=\"text/html; charset=utf-8\">\n",
      "    <meta name=\"Author\" content=\"Kieran Nichols\">\n",
      "    <link rel=\"stylesheet\" type=\"text/css\" href=\"style.css\" />\n",
      "    <link rel=\"stylesheet\" type=\"text/css\" href=\"styleDark.css\" />\n",
      "    <!--<link href=\"http://fonts.googleapis.com/css?family=Great+Vibes\" rel=\"stylesheet\" type=\"text/css\">-->\n",
      "    <link href=\"http://fonts.googleapis.com/css?family=Merienda+One\" rel=\"stylesheet\" type=\"text/css\">\n",
      "\n",
      "    <title>Kieran Nichols</title>\n",
      "    <script>\n",
      "    (function(i,s,o,g,r,a,m){i['GoogleAnalyticsObject']=r;i[r]=i[r]||function(){\n",
      "    (i[r].q=i[r].q||[]).push(arguments)},i[r].l=1*new Date();a=s.createElement(o),\n",
      "    m=s.getElementsByTagName(o)[0];a.async=1;a.src=g;m.parentNode.insertBefore(a,m)\n",
      "    })(window,document,'script','//www.google-analytics.com/analytics.js','ga');\n",
      "    ga('create', 'UA-64560597-1', 'auto');\n",
      "    ga('send', 'pageview');\n",
      "    </script>\n",
      "  </head>\n",
      "  <body>\n",
      "    <h1>Kieran Nichols</h1>\n",
      "    <img alt=\"\" style=\"margin-top: -30px;\" src=\"info/kieran_photo.jpg\" />\n",
      "    <div style=\"margin-top: -270px;\">\n",
      "      <a href=\"Research/index.html\" class=\"navLink\">\n",
      "        Research  &#8594;\n",
      "      </a> <br>\n",
      "      <a href=\"Academics/index.html\" class=\"navLink\">\n",
      "        Academics  &#8594;\n",
      "      </a> <br>\n",
      "      <a href=\"Gymnastics/index.html\" class=\"navLink\">\n",
      "        Gymnastics  &#8594;\n",
      "      </a> <br>\n",
      "      <a href=\"Fun/index.html\" class=\"navLink\">\n",
      "        Fun  &#8594;\n",
      "      </a> <br>\n",
      "\n",
      "<!--       <br><br>\n",
      "      <a href=\"home/MatthewKelly_Resume_2017.pdf\" target=\"blank\" class=\"navLink\">\n",
      "        Resume &#8594;\n",
      "      </a> <br>\n",
      "      <br> <br>\n",
      "      <a target=\"blank\" href=\"https://matthewpeterkelly.wordpress.com/woodworking-projects/\" class=\"navLink\">\n",
      "        Fun Projects &#8594;\n",
      "      </a> <br>\n",
      "      <br><br> -->\n",
      "    </div>\n",
      "    <div style=\"margin-top: -100px; margin-bottom:70px; margin-left: 580px;\">\n",
      "      <br><br>\n",
      "      <h3 style=\"margin-left: 100px;\">Email</h3>\n",
      "      <p style=\"margin-left: 120px; margin-top: -20px; margin-right: auto; font-family: monospace; \">\n",
      "        the1kieran@gmail.com <br>\n",
      "        knichols4@wisc.edu\n",
      "      </p>\n",
      "      <h3 style=\"margin-left: 100px;\">Find me on: </h3>\n",
      "      <div style=\"margin-left: 20px; margin-top: -10px\">\n",
      "        <a href=\"https://www.linkedin.com/in/kieran-nichols-24134479/\" target=\"_blank\" class=\"navLink\">  LinkedIn &#8594;  </a> <br>\n",
      "        <a href=\"https://github.com/kieran-nichols\" target=\"_blank\" class=\"navLink\">  GitHub &#8594;  </a> <br>\n",
      "        <a href=\"https://www.facebook.com/kieran.nichols.16\" target=\"_blank\" class=\"navLink\">  Facebook &#8594;  </a> <br>\n",
      "        <a href=\"http://uwbadgerlab.engr.wisc.edu/?page_id=12\" target=\"_blank\" class=\"navLink\">  Mechanical Engineering Lab &#8594;  </a> <br>\n",
      "        <a href=\"https://ncl.labs.wisc.edu/people.html\" target=\"_blank\" class=\"navLink\">  Kinesiology Lab &#8594;  </a> <br>\n",
      "<!--         <a href=\"http://scholar.google.com/citations?user=lsjpZaUAAAAJ&hl=en&oi=sra\" target=\"_blank\" class=\"navLink\">  Google Scholar &#8594;  </a> <br>\n",
      "        <a href=\"https://www.youtube.com/user/Marbletown12345678/videos\" target=\"_blank\" class=\"navLink\">  YouTube &#8594;  </a> <br>\n",
      "        <a href=\"http://www.mathworks.com/matlabcentral/profile/authors/2853760-matthew-kelly?requestedDomain=www.mathworks.com\" target=\"_blank\" class=\"navLink\">  Matlab  &#8594;  </a> <br> -->\n",
      "      </div>\n",
      "    </div>\n",
      "\n",
      "\n",
      "<!--         <h2>Industry</h2>\n",
      "        <p>\n",
      "          I now work at Rethink Robotics in Boston, developing trajectory generation and control code for their\n",
      "          <a href=\"http://www.rethinkrobotics.com/products-software/\" target=\"blank\">Sawyer Robot</a>.\n",
      "        </p> -->\n",
      "\n",
      "    <h2>Academic</h2>\n",
      "  <p>\n",
      "    My research mainly focuses on the dynamic characteristics of the ground on foot force during human upright balance and the changes of those characteristics with perturbations and neuro-muscular diseases. Some of work includes designing and building custom force measurement systems, assisting with scientific articles and grant writing, and mentoring undergraduate student in research.\n",
      "  </p>\n",
      "<!--   <p>\n",
      "    I did my graduate work at Cornell, where I earned both a M.S. (2014) and  Ph.D. (2016) in mechanical engineering, with a minor in computer science. My research was focused on non-linear robust controller design for bipedal walking robots, advised by professor\n",
      "    <a href=\"http://ruina.tam.cornell.edu/\" target=\"blank\">Andy Ruina</a>.\n",
      "  </p>\n",
      "  <p>\n",
      "    My dissertation had two major projects. The first project was writing my own\n",
      "    <a href=\"https://github.com/MatthewPeterKelly/OptimTraj\" target=\"blank\">trajectory optimization software</a>,\n",
      "    along with a long tutorial paper on trajectory optimization. The second project was developing a robust walking controller and implementing it on the\n",
      "    <a href=\"http://ruina.tam.cornell.edu/research/topics/locomotion_and_robotics/ranger/Ranger2011/\" target=\"blank\">Cornell Ranger</a>\n",
      "    walking robot.\n",
      "</p>\n",
      "\n",
      "    <p>I completed my B.S. in Mechanical Engineering at Tufts University in 2011, along with a minor in music.\n",
      "      I did my honors <a href = \"research/index.html#Research_BoneSaw\">thesis project</a> with professor <a href=\"http://engineering.tufts.edu/me/people/james/\" target=\"blank\">Tom James</a>, where I designed, built, and tested a new type of bone saw. I also did a research  <a href=\"research/index.html#Research_RheometerControl\">project in robotics</a>, jointly advised by <a href=\"http://www.tufts.edu/~crogers/\" target=\"blank\">Chris Rogers</a> and <a href=\"http://web.mit.edu/nnf/\", target=\"blank\">Gareth McKinley</a>, developing a non-linear controller for a fluid mechanics testing robot.</p>\n",
      "\n",
      "    <h2>Personal</h2>\n",
      "    <p>I grew up in Stone Ridge NY, a small town just to the Southeast of the Catskill mountains.\n",
      "      Since then, I've lived in Somerville (MA), Ithaca (NY), and now Watertown (MA).\n",
      "      I enjoy being outside: hiking, biking, skiing, gardening, and making trails in the woods.\n",
      "      In the evenings I will often be <a href=\"projects/woodworking/index.html\">woodworking</a> in my basement shop or out at a contra dance near Boston.\n",
      "    </p> -->\n",
      "  </div>\n",
      "  <br><br><br><br><br><br><br>\n",
      "</body>\n",
      "</html>\n",
      "\n"
     ]
    }
   ],
   "source": [
    "import requests\n",
    "\n",
    "link = \"https://kieran-nichols.github.io/\"\n",
    "f = requests.get(link)\n",
    "\n",
    "print f.text"
   ]
  },
  {
   "cell_type": "code",
   "execution_count": 32,
   "metadata": {},
   "outputs": [
    {
     "name": "stdout",
     "output_type": "stream",
     "text": [
      "Academic\n"
     ]
    }
   ],
   "source": [
    "# import libraries\n",
    "import urllib2\n",
    "from bs4 import BeautifulSoup\n",
    "\n",
    "link = \"https://kieran-nichols.github.io/\"\n",
    "# query the website and return the html to the variable ‘page’\n",
    "page = urllib2.urlopen(link)\n",
    "# parse the html using beautiful soup and store in variable `soup`\n",
    "soup = BeautifulSoup(page, 'html.parser')\n",
    "# Take out the <div> of name and get its value\n",
    "# name_box = soup.find_all('h2')\n",
    "name_box = soup.find('h2').text\n",
    "# name = name_box.text.strip() # strip() is used to remove starting and trailing\n",
    "print name_box"
   ]
  },
  {
   "cell_type": "code",
   "execution_count": null,
   "metadata": {},
   "outputs": [],
   "source": []
  }
 ],
 "metadata": {
  "kernelspec": {
   "display_name": "Python 2",
   "language": "python",
   "name": "python2"
  },
  "language_info": {
   "codemirror_mode": {
    "name": "ipython",
    "version": 2
   },
   "file_extension": ".py",
   "mimetype": "text/x-python",
   "name": "python",
   "nbconvert_exporter": "python",
   "pygments_lexer": "ipython2",
   "version": "2.7.15"
  }
 },
 "nbformat": 4,
 "nbformat_minor": 2
}
